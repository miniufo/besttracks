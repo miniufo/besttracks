{
 "cells": [
  {
   "cell_type": "code",
   "execution_count": null,
   "metadata": {},
   "outputs": [
    {
     "data": {
      "text/html": [
       "<pre style=\"white-space:pre;overflow-x:auto;line-height:normal;font-family:Menlo,'DejaVu Sans Mono',consolas,'Courier New',monospace\"><span style=\"color: #008080; text-decoration-color: #008080; font-weight: bold\">╭───────────────────────────────────────╮</span>\n",
       "<span style=\"color: #008080; text-decoration-color: #008080; font-weight: bold\">│ 🌀 IBTrACS Data Structure Analysis 🌀 │</span>\n",
       "<span style=\"color: #008080; text-decoration-color: #008080; font-weight: bold\">╰───────────────────────────────────────╯</span>\n",
       "</pre>\n"
      ],
      "text/plain": [
       "\u001b[1;36m╭───────────────────────────────────────╮\u001b[0m\n",
       "\u001b[1;36m│\u001b[0m\u001b[1;36m \u001b[0m\u001b[1;36m🌀 IBTrACS Data Structure Analysis 🌀\u001b[0m\u001b[1;36m \u001b[0m\u001b[1;36m│\u001b[0m\n",
       "\u001b[1;36m╰───────────────────────────────────────╯\u001b[0m\n"
      ]
     },
     "metadata": {},
     "output_type": "display_data"
    },
    {
     "data": {
      "application/vnd.jupyter.widget-view+json": {
       "model_id": "32272635fead4f4dadb771413d591789",
       "version_major": 2,
       "version_minor": 0
      },
      "text/plain": [
       "Output()"
      ]
     },
     "metadata": {},
     "output_type": "display_data"
    },
    {
     "data": {
      "text/html": [
       "<pre style=\"white-space:pre;overflow-x:auto;line-height:normal;font-family:Menlo,'DejaVu Sans Mono',consolas,'Courier New',monospace\"></pre>\n"
      ],
      "text/plain": []
     },
     "metadata": {},
     "output_type": "display_data"
    },
    {
     "data": {
      "text/html": [
       "<pre style=\"white-space:pre;overflow-x:auto;line-height:normal;font-family:Menlo,'DejaVu Sans Mono',consolas,'Courier New',monospace\">\n",
       "<span style=\"color: #008080; text-decoration-color: #008080; font-weight: bold\">TCs_CMA Data Structure Analysis:</span>\n",
       "</pre>\n"
      ],
      "text/plain": [
       "\n",
       "\u001b[1;36mTCs_CMA Data Structure Analysis:\u001b[0m\n"
      ]
     },
     "metadata": {},
     "output_type": "display_data"
    },
    {
     "data": {
      "text/html": [
       "<pre style=\"white-space:pre;overflow-x:auto;line-height:normal;font-family:Menlo,'DejaVu Sans Mono',consolas,'Courier New',monospace\">Type: <span style=\"color: #808000; text-decoration-color: #808000; font-weight: bold\">&lt;class</span><span style=\"color: #808000; text-decoration-color: #808000\"> </span><span style=\"color: #808000; text-decoration-color: #808000\">'besttracks_test.core.TCSet'</span><span style=\"color: #808000; text-decoration-color: #808000; font-weight: bold\">&gt;</span>\n",
       "</pre>\n"
      ],
      "text/plain": [
       "Type: \u001b[1;33m<\u001b[0m\u001b[1;33mclass\u001b[0m\u001b[33m \u001b[0m\u001b[33m'besttracks_test.core.TCSet'\u001b[0m\u001b[1;33m>\u001b[0m\n"
      ]
     },
     "metadata": {},
     "output_type": "display_data"
    },
    {
     "data": {
      "text/html": [
       "<pre style=\"white-space:pre;overflow-x:auto;line-height:normal;font-family:Menlo,'DejaVu Sans Mono',consolas,'Courier New',monospace\">Length: <span style=\"color: #808000; text-decoration-color: #808000; font-weight: bold\">4909</span> tropical cyclone objects\n",
       "</pre>\n"
      ],
      "text/plain": [
       "Length: \u001b[1;33m4909\u001b[0m tropical cyclone objects\n"
      ]
     },
     "metadata": {},
     "output_type": "display_data"
    },
    {
     "data": {
      "text/html": [
       "<pre style=\"white-space:pre;overflow-x:auto;line-height:normal;font-family:Menlo,'DejaVu Sans Mono',consolas,'Courier New',monospace\"><span style=\"font-weight: bold\">TCs_CMA</span> (Tropical Cyclone List)\n",
       "└── TC Object (Example)\n",
       "    ├── <span style=\"color: #008000; text-decoration-color: #008000\">ID</span>: 1979002S04179 (str)\n",
       "    ├── <span style=\"color: #000080; text-decoration-color: #000080\">ace()</span> (Method)\n",
       "    │   └── Signature: ()\n",
       "    ├── <span style=\"color: #000080; text-decoration-color: #000080\">binning()</span> (Method)\n",
       "    │   └── Signature: (var=None, **kwargs)\n",
       "    ├── <span style=\"color: #000080; text-decoration-color: #000080\">change_wind_unit()</span> (Method)\n",
       "    │   └── Signature: (unit=None)\n",
       "    ├── <span style=\"color: #000080; text-decoration-color: #000080\">copy()</span> (Method)\n",
       "    │   └── Signature: (copy_records=True)\n",
       "    ├── <span style=\"color: #000080; text-decoration-color: #000080\">duration()</span> (Method)\n",
       "    │   └── Signature: ()\n",
       "    ├── <span style=\"color: #008000; text-decoration-color: #008000\">fcstTime</span>: 0 (int)\n",
       "    ├── <span style=\"color: #000080; text-decoration-color: #000080\">get_as_xarray()</span> (Method)\n",
       "    │   └── Signature: (field)\n",
       "    ├── <span style=\"color: #008000; text-decoration-color: #008000\">name</span>: GORDON (str)\n",
       "    ├── <span style=\"color: #000080; text-decoration-color: #000080\">peak_intensity()</span> (Method)\n",
       "    │   └── Signature: ()\n",
       "    ├── <span style=\"color: #000080; text-decoration-color: #000080\">plot()</span> (Method)\n",
       "    │   └── Signature: (**kwargs)\n",
       "    ├── <span style=\"color: #000080; text-decoration-color: #000080\">plot_intensity()</span> (Method)\n",
       "    │   └── Signature: (unit='knot', **kwargs)\n",
       "    ├── <span style=\"color: #000080; text-decoration-color: #000080\">plot_track()</span> (Method)\n",
       "    │   └── Signature: (**kwargs)\n",
       "    ├── <span style=\"color: #008000; text-decoration-color: #008000\">records</span> (DataFrame)\n",
       "    │   └── Shape: (101, 6), Columns: ['TIME', 'TYPE', 'LAT', 'LON', 'WND', 'PRS']\n",
       "    ├── <span style=\"color: #000080; text-decoration-color: #000080\">resample()</span> (Method)\n",
       "    │   └── Signature: (*args, **kwargs)\n",
       "    ├── <span style=\"color: #000080; text-decoration-color: #000080\">sel()</span> (Method)\n",
       "    │   └── Signature: (cond, copy=True)\n",
       "    ├── <span style=\"color: #000080; text-decoration-color: #000080\">translate_velocity()</span> (Method)\n",
       "    │   └── Signature: (Rearth=6371200)\n",
       "    ├── <span style=\"color: #008000; text-decoration-color: #008000\">wndunit</span>: knot (str)\n",
       "    └── <span style=\"color: #008000; text-decoration-color: #008000\">year</span>: 1979 (int)\n",
       "</pre>\n"
      ],
      "text/plain": [
       "\u001b[1mTCs_CMA\u001b[0m (Tropical Cyclone List)\n",
       "└── TC Object (Example)\n",
       "    ├── \u001b[32mID\u001b[0m: 1979002S04179 (str)\n",
       "    ├── \u001b[34mace()\u001b[0m (Method)\n",
       "    │   └── Signature: ()\n",
       "    ├── \u001b[34mbinning()\u001b[0m (Method)\n",
       "    │   └── Signature: (var=None, **kwargs)\n",
       "    ├── \u001b[34mchange_wind_unit()\u001b[0m (Method)\n",
       "    │   └── Signature: (unit=None)\n",
       "    ├── \u001b[34mcopy()\u001b[0m (Method)\n",
       "    │   └── Signature: (copy_records=True)\n",
       "    ├── \u001b[34mduration()\u001b[0m (Method)\n",
       "    │   └── Signature: ()\n",
       "    ├── \u001b[32mfcstTime\u001b[0m: 0 (int)\n",
       "    ├── \u001b[34mget_as_xarray()\u001b[0m (Method)\n",
       "    │   └── Signature: (field)\n",
       "    ├── \u001b[32mname\u001b[0m: GORDON (str)\n",
       "    ├── \u001b[34mpeak_intensity()\u001b[0m (Method)\n",
       "    │   └── Signature: ()\n",
       "    ├── \u001b[34mplot()\u001b[0m (Method)\n",
       "    │   └── Signature: (**kwargs)\n",
       "    ├── \u001b[34mplot_intensity()\u001b[0m (Method)\n",
       "    │   └── Signature: (unit='knot', **kwargs)\n",
       "    ├── \u001b[34mplot_track()\u001b[0m (Method)\n",
       "    │   └── Signature: (**kwargs)\n",
       "    ├── \u001b[32mrecords\u001b[0m (DataFrame)\n",
       "    │   └── Shape: (101, 6), Columns: ['TIME', 'TYPE', 'LAT', 'LON', 'WND', 'PRS']\n",
       "    ├── \u001b[34mresample()\u001b[0m (Method)\n",
       "    │   └── Signature: (*args, **kwargs)\n",
       "    ├── \u001b[34msel()\u001b[0m (Method)\n",
       "    │   └── Signature: (cond, copy=True)\n",
       "    ├── \u001b[34mtranslate_velocity()\u001b[0m (Method)\n",
       "    │   └── Signature: (Rearth=6371200)\n",
       "    ├── \u001b[32mwndunit\u001b[0m: knot (str)\n",
       "    └── \u001b[32myear\u001b[0m: 1979 (int)\n"
      ]
     },
     "metadata": {},
     "output_type": "display_data"
    }
   ],
   "source": [
    "from rich.panel import Panel\n",
    "from rich.console import Console\n",
    "from rich.tree import Tree\n",
    "from besttracks import parse_TCs\n",
    "import pandas as pd\n",
    "import inspect\n",
    "\n",
    "console = Console()\n",
    "\n",
    "console.print(Panel.fit(\"🌀 IBTrACS Data Structure Analysis 🌀\", style=\"bold cyan\"))\n",
    "\n",
    "with console.status(\"[bold green]Parsing typhoon data (only after 1979)...\"):\n",
    "    tc_cond = lambda tc: tc.year >= 1979\n",
    "    TCs_CMA = parse_TCs(r'IBTrACS.ALL.v04r01.nc',\n",
    "                        agency='IBTrACS',\n",
    "                        wndunit=\"knot\",\n",
    "                        tc_cond=tc_cond)\n",
    "\n",
    "console.print(\"\\n[bold cyan]TCs_CMA Data Structure Analysis:[/bold cyan]\")\n",
    "console.print(f\"Type: [yellow]{type(TCs_CMA)}[/yellow]\")\n",
    "console.print(f\"Length: [yellow]{len(TCs_CMA)}[/yellow] tropical cyclone objects\")\n",
    "\n",
    "tree = Tree(\"[bold]TCs_CMA[/bold] (Tropical Cyclone List)\")\n",
    "tc_node = tree.add(\"TC Object (Example)\")\n",
    "\n",
    "if TCs_CMA:\n",
    "    tc = TCs_CMA[0]\n",
    "    \n",
    "    for attr in dir(tc):\n",
    "        if not attr.startswith('_'): \n",
    "            try:\n",
    "                value = getattr(tc, attr)\n",
    "                if callable(value):\n",
    "                    method_node = tc_node.add(f\"[blue]{attr}()[/blue] (Method)\")\n",
    "                    try:\n",
    "                        sig = inspect.signature(value)\n",
    "                        method_node.add(f\"Signature: {sig}\")\n",
    "                    except:\n",
    "                        pass\n",
    "                else:\n",
    "                    if attr == 'records' and isinstance(value, pd.DataFrame):\n",
    "                        records_node = tc_node.add(f\"[green]{attr}[/green] (DataFrame)\")\n",
    "                        records_node.add(f\"Shape: {value.shape}, Columns: {list(value.columns)}\")\n",
    "                    else:\n",
    "                        val_str = str(value)\n",
    "                        if len(val_str) > 50:\n",
    "                            val_str = val_str[:47] + \"...\"\n",
    "                        tc_node.add(f\"[green]{attr}[/green]: {val_str} ({type(value).__name__})\")\n",
    "            except Exception as e:\n",
    "                tc_node.add(f\"[red]{attr}: Cannot access ({str(e)})[/red]\")\n",
    "\n",
    "console.print(tree)"
   ]
  }
 ],
 "metadata": {
  "kernelspec": {
   "display_name": "besttracks",
   "language": "python",
   "name": "python3"
  },
  "language_info": {
   "codemirror_mode": {
    "name": "ipython",
    "version": 3
   },
   "file_extension": ".py",
   "mimetype": "text/x-python",
   "name": "python",
   "nbconvert_exporter": "python",
   "pygments_lexer": "ipython3",
   "version": "3.12.9"
  }
 },
 "nbformat": 4,
 "nbformat_minor": 2
}
